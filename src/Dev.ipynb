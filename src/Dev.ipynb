{
 "cells": [
  {
   "cell_type": "code",
   "execution_count": 1,
   "metadata": {},
   "outputs": [],
   "source": [
    "# Imports\n",
    "import os"
   ]
  },
  {
   "cell_type": "code",
   "execution_count": 22,
   "metadata": {},
   "outputs": [],
   "source": [
    "# IO functions\n",
    "\n",
    "def read_input_file(filepath: str):\n",
    "    with open(filepath) as f:\n",
    "        lines = f.readlines()\n",
    "    f.close()\n",
    "    return lines\n",
    "\n",
    "def write_output_file(program: str, filepath: str):\n",
    "    f = open(filepath, \"w\")\n",
    "    f.write(program)\n",
    "    f.close()\n",
    "    return\n",
    "\n",
    "\n",
    "# Compiler\n",
    "\n",
    "def compile_line(line: str):\n",
    "    res = find_and_execute_command(line)\n",
    "    return res + \"\\n\"\n",
    "\n",
    "def compile(lines: str, name: str, path: str):\n",
    "    program = f\";==={name}===\\n\"\n",
    "    for line in lines:\n",
    "        program += compile_line(line)\n",
    "    program += 'end'\n",
    "    write_output_file(program, path)\n",
    "    pass\n",
    "\n",
    "\n",
    "# Commands\n",
    "\n",
    "def get_method(name: str):\n",
    "    possibles = globals().copy()\n",
    "    possibles.update(locals())\n",
    "    method = possibles.get(name)\n",
    "    if not method:\n",
    "        raise NotImplementedError(\"Method %s not implemented\" % name)\n",
    "    return method\n",
    "\n",
    "\n",
    "def find_and_execute_command(line: str):\n",
    "    method = get_method(\"Test\")\n",
    "    res = method()\n",
    "    if not res:\n",
    "        res = \"\"\n",
    "    return res\n",
    "\n",
    "\n",
    "# TEST\n",
    "\n",
    "def Test():\n",
    "    return \"Test\"\n"
   ]
  },
  {
   "cell_type": "code",
   "execution_count": 20,
   "metadata": {},
   "outputs": [],
   "source": [
    "# Compiler Statements\n",
    "\n",
    "COMMANDS = {\n",
    "    \"+\": \"Add\",\n",
    "    \"print\": \"Print\",\n",
    "    \"=\": \"Equals\"\n",
    "}"
   ]
  },
  {
   "cell_type": "code",
   "execution_count": 23,
   "metadata": {},
   "outputs": [],
   "source": [
    "# TESTS\n",
    "\n",
    "# Read File\n",
    "lines = read_input_file(\"../tests/test.pass\")\n",
    "\n",
    "# Compile\n",
    "compile(lines, \"TEST\", \"../tests/test.ass\")"
   ]
  }
 ],
 "metadata": {
  "interpreter": {
   "hash": "3ab93bbfa6c267b3601817d47b45901f1b4ecda9ba23ce4ffd5c38ab289401ac"
  },
  "kernelspec": {
   "display_name": "Python 3.7.12 ('ml')",
   "language": "python",
   "name": "python3"
  },
  "language_info": {
   "codemirror_mode": {
    "name": "ipython",
    "version": 3
   },
   "file_extension": ".py",
   "mimetype": "text/x-python",
   "name": "python",
   "nbconvert_exporter": "python",
   "pygments_lexer": "ipython3",
   "version": "3.7.12"
  },
  "orig_nbformat": 4
 },
 "nbformat": 4,
 "nbformat_minor": 2
}
